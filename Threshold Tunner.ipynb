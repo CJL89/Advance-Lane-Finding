{
 "cells": [
  {
   "cell_type": "code",
   "execution_count": 1,
   "metadata": {},
   "outputs": [
    {
     "name": "stdout",
     "output_type": "stream",
     "text": [
      "All dependecies installed!\n"
     ]
    }
   ],
   "source": [
    "import cv2\n",
    "import numpy as np\n",
    "from tkinter import *\n",
    "from tkinter import filedialog\n",
    "import os\n",
    "import glob\n",
    "\n",
    "print('All dependecies installed!')"
   ]
  },
  {
   "cell_type": "code",
   "execution_count": 2,
   "metadata": {},
   "outputs": [
    {
     "ename": "ValueError",
     "evalue": "'/Users/cesarluisjaitmanlabaton/Google Drive/Udacity/Self-Driving Car/Term 01/Projects/Advance Lane Finding/test_images\\\\test5.jpg' is not in list",
     "output_type": "error",
     "traceback": [
      "\u001b[0;31m---------------------------------------------------------------\u001b[0m",
      "\u001b[0;31mValueError\u001b[0m                    Traceback (most recent call last)",
      "\u001b[0;32m<ipython-input-2-534aa0188485>\u001b[0m in \u001b[0;36m<module>\u001b[0;34m()\u001b[0m\n\u001b[1;32m      6\u001b[0m \u001b[0;31m# Make a list of calibration images\u001b[0m\u001b[0;34m\u001b[0m\u001b[0;34m\u001b[0m\u001b[0m\n\u001b[1;32m      7\u001b[0m \u001b[0mimages\u001b[0m \u001b[0;34m=\u001b[0m \u001b[0mglob\u001b[0m\u001b[0;34m.\u001b[0m\u001b[0mglob\u001b[0m\u001b[0;34m(\u001b[0m\u001b[0mdirectory\u001b[0m \u001b[0;34m+\u001b[0m \u001b[0;34m'\\*.jpg'\u001b[0m\u001b[0;34m)\u001b[0m\u001b[0;34m\u001b[0m\u001b[0m\n\u001b[0;32m----> 8\u001b[0;31m \u001b[0mindex\u001b[0m \u001b[0;34m=\u001b[0m \u001b[0mimages\u001b[0m\u001b[0;34m.\u001b[0m\u001b[0mindex\u001b[0m\u001b[0;34m(\u001b[0m\u001b[0mfile_path\u001b[0m\u001b[0;34m)\u001b[0m\u001b[0;34m\u001b[0m\u001b[0m\n\u001b[0m\u001b[1;32m      9\u001b[0m \u001b[0;34m\u001b[0m\u001b[0m\n\u001b[1;32m     10\u001b[0m \u001b[0mimg\u001b[0m \u001b[0;34m=\u001b[0m \u001b[0mcv2\u001b[0m\u001b[0;34m.\u001b[0m\u001b[0mimread\u001b[0m\u001b[0;34m(\u001b[0m\u001b[0mfile_path\u001b[0m\u001b[0;34m)\u001b[0m\u001b[0;34m\u001b[0m\u001b[0m\n",
      "\u001b[0;31mValueError\u001b[0m: '/Users/cesarluisjaitmanlabaton/Google Drive/Udacity/Self-Driving Car/Term 01/Projects/Advance Lane Finding/test_images\\\\test5.jpg' is not in list"
     ]
    }
   ],
   "source": [
    "master = Tk()\n",
    "file_path = filedialog.askopenfilename()\n",
    "directory = os.path.split(file_path)[0]\n",
    "filename = os.path.basename(file_path)\n",
    "file_path = directory + '\\\\' + filename\n",
    "# Make a list of calibration images\n",
    "images = glob.glob(directory + '\\*.jpg')\n",
    "index = images.index(file_path)\n",
    "\n",
    "img = cv2.imread(file_path)\n",
    "img_copy = np.copy(img)\n",
    "cv2.namedWindow('Image')\n",
    "cv2.namedWindow('Threshold viewer')\n",
    "\n",
    "channel = img_copy[:,:,0]\n",
    "small = cv2.resize(img_copy, (0,0), fx=0.5, fy=0.5) \n",
    "cv2.imshow('Image',small)\n",
    "\n",
    "def threshold(x):\n",
    "\t# get current positions of trackbars\n",
    "\tmin = cv2.getTrackbarPos('Min','Threshold viewer')\n",
    "\tmax = cv2.getTrackbarPos('Max','Threshold viewer')\n",
    "\n",
    "\tbinary = np.zeros_like(channel)\n",
    "\tbinary[(channel >= min) & (channel <= max)] = 1\n",
    "\t\n",
    "\tfinal_image_RGB = np.dstack((binary, binary, binary))*255\n",
    "\t\n",
    "\tcv2.imshow('Threshold viewer',final_image_RGB)\n",
    "\n",
    "# create trackbars for color change\n",
    "cv2.createTrackbar('Min','Threshold viewer',0,255,threshold)\n",
    "cv2.createTrackbar('Max','Threshold viewer',255,255,threshold)\n",
    "\n",
    "x = 0\n",
    "threshold(x)\n",
    "\n",
    "def sel():\n",
    "\tglobal channel\n",
    "\t\n",
    "\tselection = v.get()\n",
    "\t\n",
    "\tif 0 <= selection <= 2:\n",
    "\t\timg_copy = np.copy(img)\n",
    "\tif 3 <= selection <= 5:\n",
    "\t\timg_copy = cv2.cvtColor(img, cv2.COLOR_BGR2HLS)\n",
    "\tif 6 <= selection <= 8:\n",
    "\t\timg_copy = cv2.cvtColor(img, cv2.COLOR_BGR2HSV)\n",
    "\tif 9 <= selection <= 11:\n",
    "\t\timg_copy = cv2.cvtColor(img, cv2.COLOR_BGR2YUV)\n",
    "\tif 12 <= selection <= 14:\n",
    "\t\timg_copy = cv2.cvtColor(img, cv2.COLOR_BGR2YCrCb)\n",
    "\t\t\n",
    "\tsmall = cv2.resize(img_copy, (0,0), fx=0.5, fy=0.5) \n",
    "\tcv2.imshow('Image',small)\n",
    "\tselection = selection % 3\n",
    "\tchannel = img_copy[:,:,selection]\n",
    "\tthreshold(x)\n",
    "\n",
    "def prev_image():\n",
    "\tglobal index, img\n",
    "\tindex -= 1\n",
    "\tif index == 0:\n",
    "\t\tprev_button.config(state = DISABLED)\n",
    "\timg = cv2.imread(images[index])\n",
    "\tsel()\n",
    "\tnext_button.config(state = NORMAL)\n",
    "\t\n",
    "def next_image():\n",
    "\tglobal index, img\n",
    "\tindex += 1\n",
    "\tif index == (len(images) - 1):\n",
    "\t\tnext_button.config(state = DISABLED)\n",
    "\timg = cv2.imread(images[index])\n",
    "\tsel()\n",
    "\tprev_button.config(state = NORMAL)\n",
    "\n",
    "v = IntVar()\n",
    "v_image = IntVar()\n",
    "\n",
    "Radiobutton(master, text=\"BGR B channel\", variable=v, value=0, command=sel).pack(anchor=W)\n",
    "Radiobutton(master, text=\"BGR G channel\", variable=v, value=1, command=sel).pack(anchor=W)\n",
    "Radiobutton(master, text=\"BGR R channel\", variable=v, value=2, command=sel).pack(anchor=W)\n",
    "Radiobutton(master, text=\"HLS H channel\", variable=v, value=3, command=sel).pack(anchor=W)\n",
    "Radiobutton(master, text=\"HLS L channel\", variable=v, value=4, command=sel).pack(anchor=W)\n",
    "Radiobutton(master, text=\"HLS S channel\", variable=v, value=5, command=sel).pack(anchor=W)\n",
    "Radiobutton(master, text=\"HSV H channel\", variable=v, value=6, command=sel).pack(anchor=W)\n",
    "Radiobutton(master, text=\"HSV S channel\", variable=v, value=7, command=sel).pack(anchor=W)\n",
    "Radiobutton(master, text=\"HSV V channel\", variable=v, value=8, command=sel).pack(anchor=W)\n",
    "Radiobutton(master, text=\"YUV Y channel\", variable=v, value=9, command=sel).pack(anchor=W)\n",
    "Radiobutton(master, text=\"YUV U channel\", variable=v, value=10, command=sel).pack(anchor=W)\n",
    "Radiobutton(master, text=\"YUV V channel\", variable=v, value=11, command=sel).pack(anchor=W)\n",
    "Radiobutton(master, text=\"YCrCb Y channel\", variable=v, value=12, command=sel).pack(anchor=W)\n",
    "Radiobutton(master, text=\"YCrCb Cr channel\", variable=v, value=13, command=sel).pack(anchor=W)\n",
    "Radiobutton(master, text=\"YCrCb Cb channel\", variable=v, value=14, command=sel).pack(anchor=W)\n",
    "\n",
    "prev_button = Button(master, text=\"Prev image\", command=prev_image)\n",
    "prev_button.pack()\n",
    "next_button = Button(master, text=\"Next image\", command=next_image)\n",
    "next_button.pack()\n",
    "\n",
    "if index == 0:\n",
    "\tprev_button.config(state = DISABLED)\n",
    "elif index == (len(images) - 1):\n",
    "\tnext_button.config(state = DISABLED)\n",
    "\n",
    "mainloop()\n",
    "\n",
    "cv2.destroyAllWindows()"
   ]
  },
  {
   "cell_type": "code",
   "execution_count": null,
   "metadata": {
    "collapsed": true
   },
   "outputs": [],
   "source": []
  }
 ],
 "metadata": {
  "kernelspec": {
   "display_name": "Python 3",
   "language": "python",
   "name": "python3"
  },
  "language_info": {
   "codemirror_mode": {
    "name": "ipython",
    "version": 3
   },
   "file_extension": ".py",
   "mimetype": "text/x-python",
   "name": "python",
   "nbconvert_exporter": "python",
   "pygments_lexer": "ipython3",
   "version": "3.5.2"
  },
  "widgets": {
   "state": {},
   "version": "1.1.2"
  }
 },
 "nbformat": 4,
 "nbformat_minor": 2
}
